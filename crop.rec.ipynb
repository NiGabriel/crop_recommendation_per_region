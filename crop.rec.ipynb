{
 "cells": [
  {
   "cell_type": "code",
   "execution_count": 19,
   "metadata": {},
   "outputs": [],
   "source": [
    "import pandas as pd\n",
    "import numpy as np\n",
    "from datetime import datetime\n",
    "import seaborn as sns\n",
    "import matplotlib.pyplot as plt\n",
    "from sklearn.preprocessing import LabelEncoder, StandardScaler\n",
    "from sklearn.preprocessing import MinMaxScaler\n",
    "from scipy import stats\n",
    "from sklearn.model_selection import train_test_split\n",
    "from sklearn.ensemble import RandomForestClassifier\n",
    "from sklearn.model_selection import StratifiedShuffleSplit, StratifiedKFold, cross_val_score\n",
    "from sklearn.tree import DecisionTreeClassifier\n",
    "from sklearn.svm import SVC\n",
    "from xgboost import XGBClassifier\n",
    "from sklearn.metrics import accuracy_score\n",
    "from sklearn.impute import SimpleImputer\n",
    "from sklearn.naive_bayes import GaussianNB\n",
    "import joblib"
   ]
  },
  {
   "cell_type": "code",
   "execution_count": 20,
   "metadata": {},
   "outputs": [],
   "source": [
    "crop_data = pd.read_excel('datasets/crop_recommendation_new.xlsx', sheet_name=0)\n",
    "region_data = pd.read_excel('datasets/crop_recommendation_new.xlsx', sheet_name=4)"
   ]
  },
  {
   "cell_type": "code",
   "execution_count": 21,
   "metadata": {},
   "outputs": [],
   "source": [
    "# Function to sample a value from a range\n",
    "def sample_from_range(value):\n",
    "    if isinstance(value, str) and '-' in value:\n",
    "        parts = value.split('-')\n",
    "        if len(parts) == 2 and all(part.strip().replace('.', '', 1).isdigit() for part in parts):\n",
    "            low, high = map(float, parts)\n",
    "            return np.random.uniform(low, high)\n",
    "    return value  # Return as is if not a valid range\n",
    "\n",
    "# Function to generate samples for each crop\n",
    "def generate_samples(data, num_samples=10):\n",
    "    sampled_data = []\n",
    "    for _, row in data.iterrows():\n",
    "        for _ in range(num_samples):\n",
    "            sampled_row = row.copy()\n",
    "            sampled_row['Altitude (masl)'] = sample_from_range(row['Altitude (masl)'])\n",
    "            sampled_row['Annual rainfall (mm)'] = sample_from_range(row['Annual rainfall (mm)'])\n",
    "            sampled_row['temperature (C)'] = sample_from_range(row['temperature (C)'])\n",
    "            sampled_row['pH'] = sample_from_range(row['pH'])\n",
    "            sampled_row['Crop water need (mm/total growing period)'] = sample_from_range(row['Crop water need (mm/total growing period)'])\n",
    "            sampled_row['Humidity(%)'] = sample_from_range(row['Humidity(%)'])\n",
    "            sampled_row['Optimum soil moisture'] = sample_from_range(row['Optimum soil moisture'])\n",
    "            sampled_row['N'] = sample_from_range(row['N'])\n",
    "            sampled_row['P'] = sample_from_range(row['P'])\n",
    "            sampled_row['K'] = sample_from_range(row['K'])\n",
    "            sampled_data.append(sampled_row)\n",
    "    return pd.DataFrame(sampled_data)\n",
    "\n",
    "# Generate the new sampled dataset\n",
    "sampled_dataset = generate_samples(crop_data, num_samples=100)"
   ]
  }
 ],
 "metadata": {
  "kernelspec": {
   "display_name": "Python 3",
   "language": "python",
   "name": "python3"
  },
  "language_info": {
   "codemirror_mode": {
    "name": "ipython",
    "version": 3
   },
   "file_extension": ".py",
   "mimetype": "text/x-python",
   "name": "python",
   "nbconvert_exporter": "python",
   "pygments_lexer": "ipython3",
   "version": "3.11.4"
  }
 },
 "nbformat": 4,
 "nbformat_minor": 2
}
