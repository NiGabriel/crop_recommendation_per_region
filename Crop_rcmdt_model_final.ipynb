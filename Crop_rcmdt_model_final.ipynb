{
 "cells": [
  {
   "cell_type": "code",
   "execution_count": 1,
   "metadata": {
    "colab": {
     "base_uri": "https://localhost:8080/"
    },
    "id": "vaiJityuWQDZ",
    "outputId": "85262732-a790-48ea-c57f-1fc215eee5b2"
   },
   "outputs": [
    {
     "ename": "ModuleNotFoundError",
     "evalue": "No module named 'google.colab'",
     "output_type": "error",
     "traceback": [
      "\u001b[1;31m---------------------------------------------------------------------------\u001b[0m",
      "\u001b[1;31mModuleNotFoundError\u001b[0m                       Traceback (most recent call last)",
      "Cell \u001b[1;32mIn[1], line 1\u001b[0m\n\u001b[1;32m----> 1\u001b[0m \u001b[38;5;28;01mfrom\u001b[39;00m \u001b[38;5;21;01mgoogle\u001b[39;00m\u001b[38;5;21;01m.\u001b[39;00m\u001b[38;5;21;01mcolab\u001b[39;00m \u001b[38;5;28;01mimport\u001b[39;00m drive\n\u001b[0;32m      2\u001b[0m drive\u001b[38;5;241m.\u001b[39mmount(\u001b[38;5;124m'\u001b[39m\u001b[38;5;124m/content/drive\u001b[39m\u001b[38;5;124m'\u001b[39m)\n",
      "\u001b[1;31mModuleNotFoundError\u001b[0m: No module named 'google.colab'"
     ]
    }
   ],
   "source": [
    "from google.colab import drive\n",
    "drive.mount('/content/drive')"
   ]
  },
  {
   "cell_type": "code",
   "execution_count": null,
   "metadata": {
    "id": "mg2Iji4iZXe9"
   },
   "outputs": [],
   "source": [
    "# Data manipulation and analysis\n",
    "import pandas as pd\n",
    "import numpy as np\n",
    "# Visualization\n",
    "import seaborn as sns\n",
    "import matplotlib.pyplot as plt\n",
    "# Preprocessing\n",
    "from sklearn.preprocessing import LabelEncoder, StandardScaler, MinMaxScaler\n",
    "from sklearn.impute import SimpleImputer\n",
    "# Statistical analysis\n",
    "from scipy import stats\n",
    "# Model training and evaluation\n",
    "from sklearn.model_selection import train_test_split, StratifiedShuffleSplit, StratifiedKFold, cross_val_score\n",
    "from sklearn.metrics import accuracy_score, classification_report\n",
    "# Machine learning models\n",
    "from sklearn.ensemble import RandomForestClassifier\n",
    "from sklearn.tree import DecisionTreeClassifier\n",
    "from sklearn.svm import SVC\n",
    "from xgboost import XGBClassifier\n",
    "from sklearn.naive_bayes import GaussianNB\n",
    "# Utility\n",
    "from datetime import datetime\n",
    "import joblib\n",
    "import json"
   ]
  },
  {
   "cell_type": "code",
   "execution_count": null,
   "metadata": {
    "id": "0yP_5YLaa8ZJ"
   },
   "outputs": [],
   "source": [
    "# crop_data = pd.read_excel('/content/drive/MyDrive/model dvpt data/crop_recommendation.xlsx', sheet_name=0)"
   ]
  },
  {
   "cell_type": "code",
   "execution_count": null,
   "metadata": {
    "id": "m-6QrBkja8Ht"
   },
   "outputs": [],
   "source": [
    "region_data = pd.read_excel('sample_data/crop_recommendations.xlsx', sheet_name=2)\n",
    "crop_data = pd.read_csv('sample_data/filtered_crop_suitability_dataset.csv')\n"
   ]
  },
  {
   "cell_type": "code",
   "execution_count": null,
   "metadata": {
    "id": "ESsfNmHkPc_k"
   },
   "outputs": [],
   "source": [
    "# crop_data = pd.read_excel('/content/drive/MyDrive/model dvpt data/crop_recommendations.xlsx', sheet_name=0)\n",
    "# region_data = pd.read_excel('/content/drive/MyDrive/model dvpt data/crop_recommendations.xlsx', sheet_name=2)\n"
   ]
  },
  {
   "cell_type": "code",
   "execution_count": null,
   "metadata": {
    "id": "8fsRM5JQ17Kn"
   },
   "outputs": [],
   "source": [
    "# from google.colab import drive\n",
    "# drive.mount('/content/drive')"
   ]
  },
  {
   "cell_type": "code",
   "execution_count": null,
   "metadata": {
    "id": "8czVMMVpePkX"
   },
   "outputs": [],
   "source": [
    "# # Function to sample a value from a range or threshold\n",
    "# def sample_from_range(value):\n",
    "#     # Remove commas from numbers\n",
    "#     if isinstance(value, str):\n",
    "#         value = value.replace(',', '')\n",
    "\n",
    "#     # Check if the value is a range (e.g., '45-60')\n",
    "#     if isinstance(value, str) and '-' in value:\n",
    "#         parts = value.split('-')\n",
    "#         if len(parts) == 2 and all(part.strip().replace('.', '', 1).isdigit() for part in parts):\n",
    "#             low, high = map(float, parts)\n",
    "#             return np.random.uniform(low, high)\n",
    "\n",
    "#     # Check for '>' or '<' in the value, e.g., '>60' or '<45'\n",
    "#     if isinstance(value, str) and value:\n",
    "#         if value[0] == '>':\n",
    "#             threshold = float(value[1:].strip())\n",
    "#             return np.random.uniform(threshold, threshold + 20)  # Sample within a range above the threshold\n",
    "#         elif value[0] == '<':\n",
    "#             threshold = float(value[1:].strip())\n",
    "#             return np.random.uniform(threshold - 20, threshold)  # Sample within a range below the threshold\n",
    "\n",
    "#     # Check for symbol at the end (e.g., '50<')\n",
    "#     if isinstance(value, str) and value[-1] == '<':\n",
    "#         threshold = float(value[:-1].strip())  # Remove the '<' symbol and convert to float\n",
    "#         return np.random.uniform(threshold - 20, threshold)  # Sample within a range below the threshold\n",
    "\n",
    "#     # Check if the value is a valid number after removing commas\n",
    "#     if isinstance(value, str) and value.replace('.', '', 1).isdigit():\n",
    "#         return float(value)  # Return as float after removing commas\n",
    "\n",
    "#     return value\n",
    "\n",
    "# # Function to generate samples for each crop\n",
    "# def generate_samples(data, num_samples=100):\n",
    "#     sampled_data = []\n",
    "#     for _, row in data.iterrows():\n",
    "#         for _ in range(num_samples):\n",
    "#             sampled_row = row.copy()\n",
    "#             sampled_row['Altitude (masl)'] = sample_from_range(row['Altitude (masl)'])\n",
    "#             sampled_row['temperature (C) '] = sample_from_range(row['temperature (C) '])\n",
    "#             sampled_row['pH'] = sample_from_range(row['pH'])\n",
    "#             sampled_row['Crop water need (mm/total growing period)'] = sample_from_range(row['Crop water need (mm/total growing period)'])\n",
    "#             sampled_row['Humidity(%)'] = sample_from_range(row['Humidity(%)'])\n",
    "#             sampled_row['N'] = sample_from_range(row['N'])\n",
    "#             sampled_row['P'] = sample_from_range(row['P'])\n",
    "#             sampled_row['K'] = sample_from_range(row['K'])\n",
    "#             sampled_data.append(sampled_row)\n",
    "#     return pd.DataFrame(sampled_data)\n",
    "\n",
    "# # Generate the new sampled dataset\n",
    "# sampled_dataset = generate_samples(crop_data, num_samples=100)\n",
    "\n",
    "\n",
    "sampled_dataset = crop_data"
   ]
  },
  {
   "cell_type": "code",
   "execution_count": null,
   "metadata": {
    "id": "xj6wF6o2var0"
   },
   "outputs": [],
   "source": [
    "crop_columns_to_remove = [\n",
    "    'Id','Crop suitability','Growing period (days)','Irrigation required(%)'\n",
    "]\n",
    "\n",
    "sampled_dataset = sampled_dataset.drop(columns=crop_columns_to_remove, errors='ignore')"
   ]
  },
  {
   "cell_type": "code",
   "execution_count": null,
   "metadata": {
    "id": "2S6Qq9DpJSRo"
   },
   "outputs": [],
   "source": [
    "models = {\n",
    "\n",
    "    'XGBoost': XGBClassifier(\n",
    "        n_estimators=200,                # Increase number of boosting rounds\n",
    "        learning_rate=0.05,              # Lower learning rate\n",
    "        max_depth=4,                     # Decrease max depth to avoid overfitting\n",
    "        min_child_weight=3,              # Minimum sum of instance weight needed in a child\n",
    "        gamma=0.1,                       # Minimum loss reduction required to split\n",
    "        subsample=0.8,                   # Fraction of samples used for training each tree\n",
    "        colsample_bytree=0.8,            # Fraction of features used for training each tree\n",
    "        reg_lambda=1.5,                  # L2 regularization\n",
    "        reg_alpha=0.5,                   # L1 regularization (adds sparsity)\n",
    "        eval_metric='mlogloss',\n",
    "        random_state=42\n",
    "    )\n",
    "}"
   ]
  },
  {
   "cell_type": "code",
   "execution_count": null,
   "metadata": {
    "id": "tk_vMDSqLVRF"
   },
   "outputs": [],
   "source": [
    "# Prepare the dataset for training\n",
    "train_features = sampled_dataset[['Altitude (masl)', 'temperature (C) ',\n",
    "                             'pH', 'N', 'P', 'K','Crop water need (mm/total growing period)', 'Humidity(%)']]\n",
    "target = sampled_dataset['Crop']"
   ]
  },
  {
   "cell_type": "code",
   "execution_count": null,
   "metadata": {
    "id": "P6B3QEzqcXpr"
   },
   "outputs": [],
   "source": [
    "# Encode the target variable to numerical values\n",
    "label_encoder = LabelEncoder()\n",
    "target_encoded = label_encoder.fit_transform(target)\n",
    "\n",
    "# Split the dataset into training and testing sets\n",
    "X_train, X_test, y_train, y_test = train_test_split(train_features, target_encoded, test_size=0.2, random_state=42)"
   ]
  },
  {
   "cell_type": "code",
   "execution_count": null,
   "metadata": {
    "id": "e5H1DjfwdROn"
   },
   "outputs": [],
   "source": [
    "# Initialize model_accuracies\n",
    "model_accuracies = {name: [] for name in models.keys()}"
   ]
  },
  {
   "cell_type": "code",
   "execution_count": null,
   "metadata": {
    "colab": {
     "base_uri": "https://localhost:8080/"
    },
    "id": "gDYrzuCFcPwq",
    "outputId": "3d05a497-8ee6-4941-d435-149d5be5b734"
   },
   "outputs": [
    {
     "name": "stdout",
     "output_type": "stream",
     "text": [
      "Training XGBoost...\n",
      "\n",
      "XGBoost Accuracy: 0.9895\n",
      "\n",
      "Best Model: XGBoost with mean accuracy: 0.9895\n"
     ]
    }
   ],
   "source": [
    "# Function to train and evaluate models\n",
    "def train_and_evaluate(models, X_train, X_test, y_train, y_test):\n",
    "    results = {}\n",
    "\n",
    "    for name, model in models.items():\n",
    "        print(f\"Training {name}...\")\n",
    "        try:\n",
    "            # Train the model\n",
    "            model.fit(X_train, y_train)\n",
    "            y_pred = model.predict(X_test)\n",
    "\n",
    "            # Calculate accuracy\n",
    "            accuracy = accuracy_score(y_test, y_pred)\n",
    "            print(f\"\\n{name} Accuracy: {accuracy:.4f}\")\n",
    "\n",
    "            # Calculate classification report\n",
    "            report = classification_report(y_test, y_pred, output_dict=True, zero_division=0)\n",
    "\n",
    "            # Store results\n",
    "            results[name] = {\n",
    "                'model': model,\n",
    "                'accuracy': accuracy,\n",
    "                'classification_report': report\n",
    "            }\n",
    "\n",
    "            # Append the accuracy to the model_accuracies list\n",
    "            model_accuracies[name].append(accuracy)\n",
    "\n",
    "        except Exception as e:\n",
    "            print(f\"Error training {name}: {str(e)}\")\n",
    "            results[name] = {\n",
    "                'model': None,\n",
    "                'accuracy': None,\n",
    "                'classification_report': None,\n",
    "                'error': str(e)\n",
    "            }\n",
    "\n",
    "    return results\n",
    "\n",
    "# Train and evaluate all models\n",
    "results = train_and_evaluate(models, X_train, X_test, y_train, y_test)\n",
    "\n",
    "# Calculate mean accuracies\n",
    "mean_accuracies = {\n",
    "    model_name: (sum(accuracies) / len(accuracies)) if len(accuracies) > 0 else 0\n",
    "    for model_name, accuracies in model_accuracies.items()\n",
    "}\n",
    "\n",
    "# Determine the best model\n",
    "best_model_name = max(mean_accuracies, key=mean_accuracies.get)\n",
    "best_model = models[best_model_name]\n",
    "\n",
    "print(f\"\\nBest Model: {best_model_name} with mean accuracy: {mean_accuracies[best_model_name]:.4f}\")"
   ]
  },
  {
   "cell_type": "code",
   "execution_count": null,
   "metadata": {
    "colab": {
     "base_uri": "https://localhost:8080/",
     "height": 564
    },
    "id": "UywwCNDKcagp",
    "outputId": "0754fa4e-e837-491f-aaf2-2242f18c3bd2"
   },
   "outputs": [
    {
     "data": {
      "image/png": "[encoded data removed]",
      "text/plain": [
       "<Figure size 1000x600 with 1 Axes>"
      ]
     },
     "metadata": {},
     "output_type": "display_data"
    }
   ],
   "source": [
    "feature_importance = best_model.feature_importances_\n",
    "\n",
    "feature_names = train_features.columns\n",
    "\n",
    "# Create a DataFrame for feature importances\n",
    "importance_df = pd.DataFrame({\n",
    "    'Feature': feature_names,\n",
    "    'Importance': feature_importance\n",
    "}).sort_values(by='Importance', ascending=False)\n",
    "\n",
    "\n",
    "plt.figure(figsize=(10, 6))\n",
    "plt.barh(importance_df['Feature'], importance_df['Importance'])\n",
    "plt.xlabel('Feature Importance')\n",
    "plt.ylabel('Features')\n",
    "plt.title('Feature Importance for Best Model')\n",
    "plt.gca().invert_yaxis()\n",
    "plt.show()"
   ]
  },
  {
   "cell_type": "code",
   "execution_count": null,
   "metadata": {
    "colab": {
     "base_uri": "https://localhost:8080/"
    },
    "id": "Y7_uO52eYOve",
    "outputId": "207f16d9-b4b0-40d7-ddc6-5418e11ab285"
   },
   "outputs": [
    {
     "name": "stderr",
     "output_type": "stream",
     "text": [
      "<ipython-input-696-05840f39a02f>:23: SettingWithCopyWarning: \n",
      "A value is trying to be set on a copy of a slice from a DataFrame.\n",
      "Try using .loc[row_indexer,col_indexer] = value instead\n",
      "\n",
      "See the caveats in the documentation: https://pandas.pydata.org/pandas-docs/stable/user_guide/indexing.html#returning-a-view-versus-a-copy\n",
      "  region_data['pH_avg'] = region_data['pH'].apply(calculate_average_ph)\n"
     ]
    }
   ],
   "source": [
    "# Step 1: Drop rows with specific unwanted text entries\n",
    "unwanted_text = ['Protected Land', 'Water Body']\n",
    "region_data = region_data[~region_data['pH'].isin(unwanted_text)]\n",
    "\n",
    "# Step 2: Function to calculate average pH\n",
    "def calculate_average_ph(ph_value):\n",
    "    # Handle special case for values like '<5.0'\n",
    "    if '<' in ph_value:\n",
    "        # Convert '<5.0' to 5.0 (assuming '<5.0' means \"up to 5.0\")\n",
    "        return float(ph_value.replace('<', ''))\n",
    "    elif '>' in ph_value:\n",
    "        return float(ph_value.replace('>',''))\n",
    "\n",
    "    # Handle range values like '6.0-7.0'\n",
    "    if '-' in ph_value:\n",
    "        lower, upper = map(float, ph_value.split('-'))\n",
    "        return (lower + upper) / 2\n",
    "\n",
    "    # Convert single numeric value to float\n",
    "    return float(ph_value)\n",
    "\n",
    "# Step 3: Apply the function to the 'pH' column\n",
    "region_data['pH_avg'] = region_data['pH'].apply(calculate_average_ph)"
   ]
  },
  {
   "cell_type": "code",
   "execution_count": null,
   "metadata": {
    "id": "cRA9qwdhWRS5"
   },
   "outputs": [],
   "source": [
    "def fetch_crop_data(crop_names, dataset):\n",
    "    # Filter the dataset based on the crop names\n",
    "    filtered_data = dataset[dataset['Crop'].isin(crop_names)].drop_duplicates(subset=['Crop'])\n",
    "\n",
    "    # Use a dictionary to store crop details for quick lookup\n",
    "    crop_details_dict = {}\n",
    "    for _, row in filtered_data.iterrows():\n",
    "        crop_details_dict[row['Crop']] = {\n",
    "            \"season_a_start\": row['Season A start(month)'],\n",
    "            \"season_a_end\": row['Season A end'],\n",
    "            \"season_b_start\": row['Season B start(month)'],\n",
    "            \"season_b_end\": row['Season B end(month)'],\n",
    "            \"soil_type\": row['Soil type']\n",
    "        }\n",
    "\n",
    "    return crop_details_dict"
   ]
  },
  {
   "cell_type": "code",
   "execution_count": null,
   "metadata": {
    "id": "MMStCxLI8lju"
   },
   "outputs": [],
   "source": [
    "def extract_monthly_avg(data, start_month, end_month, col_prefix):\n",
    "    # Ensure that start_month and end_month are integers\n",
    "    start_month = int(start_month)\n",
    "    end_month = int(end_month)\n",
    "\n",
    "    print(f\"DEBUG: start_month (after conversion) = {start_month}\")\n",
    "    print(f\"DEBUG: end_month (after conversion) = {end_month}\")\n",
    "\n",
    "    # Generate month indices based on the start and end months\n",
    "    if start_month <= end_month:\n",
    "        month_indices = list(range(start_month, end_month + 1))\n",
    "    else:  # Handle case where the period spans the year-end (e.g., Nov to Feb)\n",
    "        month_indices = list(range(start_month, 13)) + list(range(1, end_month + 1))\n",
    "\n",
    "    print(f\"DEBUG: Generated month_indices = {month_indices}\")\n",
    "\n",
    "    # Extract relevant column names based on the month indices\n",
    "    monthly_columns = [f\"{col_prefix} - {datetime(1900, month, 1).strftime('%b')}\" for month in month_indices]\n",
    "\n",
    "    print(f\"DEBUG: Extracted monthly_columns = {monthly_columns}\")\n",
    "\n",
    "    # Calculate the average of the selected months\n",
    "    avg_value = data[monthly_columns].mean(axis=1).values[0]\n",
    "\n",
    "    print(f\"DEBUG: Calculated avg_value = {avg_value}\")\n",
    "    return avg_value\n"
   ]
  },
  {
   "cell_type": "code",
   "execution_count": null,
   "metadata": {
    "id": "xC6V-6FVGG0a"
   },
   "outputs": [],
   "source": [
    "# def get_month_avg(region_data, start_date):\n",
    "#     \"\"\"Get average temperature, rainfall, and crop water need based on the month of the start date.\"\"\"\n",
    "#     start_month = datetime.strptime(start_date, \"%Y-%m-%d\").month\n",
    "#     print(f\"DEBUG: start_date = {start_date}, parsed start_month = {start_month}\")\n",
    "\n",
    "#     # Extract the relevant columns for the selected month\n",
    "#     avg_temperature = extract_monthly_avg(region_data, start_month, start_month, \"Average Temperature (°C)\")\n",
    "#     avg_rainfall = extract_monthly_avg(region_data, start_month, start_month, \"Average Precipitation (mm)\")\n",
    "\n",
    "#     print(f\"DEBUG: Avg temperature for month {start_month}: {avg_temperature}\")\n",
    "#     print(f\"DEBUG: Avg rainfall for month {start_month}: {avg_rainfall}\")\n",
    "\n",
    "#     return avg_temperature, avg_rainfall"
   ]
  },
  {
   "cell_type": "code",
   "execution_count": null,
   "metadata": {
    "id": "vg1yDPI0Amnu"
   },
   "outputs": [],
   "source": [
    "# Define the mapping of months to seasons\n",
    "SEASON_MAP = {\n",
    "    'A': [9, 10, 11, 12, 1],  # September to January\n",
    "    'B': [2, 3, 4, 5, 6],     # February to June\n",
    "    'C': [7, 8]               # July to August\n",
    "}\n",
    "\n",
    "def get_season_from_month(month):\n",
    "    \"\"\"Determine the season based on the given month.\"\"\"\n",
    "    for season, months in SEASON_MAP.items():\n",
    "        if month in months:\n",
    "            return season\n",
    "    return None\n",
    "\n",
    "def get_month_avg(region_data, start_date):\n",
    "    \"\"\"Get average temperature and total rainfall based on the season of the start date.\"\"\"\n",
    "    start_month = datetime.strptime(start_date, \"%Y-%m-%d\").month\n",
    "    print(f\"DEBUG: start_date = {start_date}, parsed start_month = {start_month}\")\n",
    "\n",
    "    # Determine the season for the given month\n",
    "    season = get_season_from_month(start_month)\n",
    "    print(f\"DEBUG: Season for month {start_month}: {season}\")\n",
    "\n",
    "    if not season:\n",
    "        raise ValueError(\"Invalid month provided, unable to determine season.\")\n",
    "\n",
    "    # Get the list of months for the identified season\n",
    "    season_months = SEASON_MAP[season]\n",
    "\n",
    "    # Calculate the average temperature for the season\n",
    "    avg_temperature = extract_monthly_avg(region_data, season_months[0], season_months[-1], \"Average Temperature (°C)\")\n",
    "\n",
    "    # Calculate the total rainfall for the season manually\n",
    "    total_rainfall = 0\n",
    "    for month in season_months:\n",
    "        monthly_rainfall = extract_monthly_avg(region_data, month, month, \"Average Precipitation (mm)\")\n",
    "        if monthly_rainfall is not None:\n",
    "            total_rainfall += monthly_rainfall\n",
    "\n",
    "    print(f\"DEBUG: Avg temperature for season {season}: {avg_temperature}\")\n",
    "    print(f\"DEBUG: Total rainfall for season {season}: {total_rainfall}\")\n",
    "\n",
    "    return avg_temperature, total_rainfall"
   ]
  },
  {
   "cell_type": "code",
   "execution_count": null,
   "metadata": {
    "id": "WZNWEpzyAxfg"
   },
   "outputs": [],
   "source": [
    "# User input\n",
    "# user_input = {\n",
    "#     \"district\": \"Nyanza\",\n",
    "#     \"sector\": \"Mukingo\",\n",
    "#     \"start_date_to_plant\": \"2024-03-01\"\n",
    "# }\n",
    "\n",
    "\n",
    "user_input = {\n",
    "    # \"start_date_to_plant\": \"2024-02-18\",  # Example start date\n",
    "    \"Altitude (masl)\": 2200,             # Altitude in meters above sea level\n",
    "    \"temperature (C)\": 23.5,             # Temperature in Celsius\n",
    "    \"pH\": 6.5,                           # Soil pH level\n",
    "    \"N\": 140,                            # Nitrogen percentage\n",
    "    \"P\": 20,                             # Phosphorus in ppm\n",
    "    \"K\": 200,                            # Potassium in ppm\n",
    "    \"rainfall\": 2800,  # Rainfall in mm\n",
    "    \"Humidity(%)\": 70                    # Humidity percentage\n",
    "}"
   ]
  },
  {
   "cell_type": "code",
   "execution_count": null,
   "metadata": {
    "id": "UznE4aSVAzz4"
   },
   "outputs": [],
   "source": [
    "def predict_best_crops(features, best_model, label_encoder, top_n=5):\n",
    "    \"\"\"Predict top crops based on input features.\"\"\"\n",
    "    features_df = pd.DataFrame([features])\n",
    "\n",
    "    print(\"\\nDEBUG: Input features for prediction:\")\n",
    "    print(features_df)\n",
    "\n",
    "    # Ensure the feature order matches the model's training data\n",
    "    feature_columns = [\n",
    "        'Altitude (masl)', 'temperature (C) ', 'pH', 'N', 'P', 'K',\n",
    "        'Crop water need (mm/total growing period)', 'Humidity(%)'\n",
    "    ]\n",
    "    features_df = features_df[feature_columns]\n",
    "\n",
    "    # Make a prediction using the best model\n",
    "    try:\n",
    "        predictions_proba = best_model.predict_proba(features_df)[0]\n",
    "        print(\"\\nDEBUG: Prediction probabilities:\", predictions_proba)\n",
    "    except AttributeError as e:\n",
    "        print(\"\\nDEBUG: Model does not support predict_proba. Error:\", str(e))\n",
    "        predicted_class = best_model.predict(features_df)[0]\n",
    "        return [label_encoder.inverse_transform([predicted_class])[0]]\n",
    "\n",
    "    # Get the indices of the top N predictions with the highest probability\n",
    "    top_n_indices = np.argsort(predictions_proba)[-top_n:][::-1]\n",
    "\n",
    "    # Get the crop names and their corresponding probabilities\n",
    "    top_crops = label_encoder.inverse_transform(top_n_indices)\n",
    "    top_probabilities = predictions_proba[top_n_indices]\n",
    "\n",
    "    print(\"\\nDEBUG: Top crops and their probabilities:\")\n",
    "    for crop, prob in zip(top_crops, top_probabilities):\n",
    "        print(f\"Crop: {crop}, Probability: {prob}\")\n",
    "\n",
    "    # Return both top crops and their probabilities\n",
    "    return list(zip(top_crops, top_probabilities))\n"
   ]
  },
  {
   "cell_type": "code",
   "execution_count": null,
   "metadata": {
    "id": "UBI3KMAcA2u-"
   },
   "outputs": [],
   "source": [
    "# Helper function to convert non-serializable types\n",
    "def convert_to_serializable(obj):\n",
    "    if isinstance(obj, np.int64):\n",
    "        return int(obj)  # Convert to native Python int\n",
    "    elif isinstance(obj, dict):\n",
    "        return {key: convert_to_serializable(value) for key, value in obj.items()}\n",
    "    elif isinstance(obj, list):\n",
    "        return [convert_to_serializable(item) for item in obj]\n",
    "    return obj"
   ]
  },
  {
   "cell_type": "markdown",
   "metadata": {
    "id": "fWSZLwYZfc8-"
   },
   "source": [
    "**Location based**"
   ]
  },
  {
   "cell_type": "code",
   "execution_count": null,
   "metadata": {
    "id": "OKOAwdk-A6Xv"
   },
   "outputs": [],
   "source": [
    "# # Filter region data based on user input\n",
    "# filtered_region = region_data[\n",
    "#     (region_data['District'] == user_input['district']) &\n",
    "#     (region_data['Sector'] == user_input['sector'])\n",
    "# ]\n",
    "\n",
    "# # Check if filtered_region is empty\n",
    "# if filtered_region.empty:\n",
    "#     print(\"\\nDEBUG: No data found for the specified district and sector.\")\n",
    "# else:\n",
    "#     print(\"\\nDEBUG: Filtered region data found.\")\n",
    "#     print(filtered_region)\n",
    "\n",
    "#     # Extract relevant features from the filtered region\n",
    "#     humidity = filtered_region['Humidity(%)'].values[0].item()\n",
    "#     pH = filtered_region['pH_avg'].values[0].item()\n",
    "#     potassium_min = filtered_region['Potassium(ppm)'].values[0].item()\n",
    "#     phosphorus_min = filtered_region['Phosphorus(ppm)'].values[0].item()\n",
    "#     nitrogen = filtered_region['Nitrogen(%)'].values[0].item()\n",
    "#     altitude = filtered_region['Elevation'].values[0].item()\n",
    "\n",
    "#     print(\"\\nDEBUG: Extracted features:\")\n",
    "#     print(f\"Humidity: {humidity}, pH: {pH}, K: {potassium_min}, P: {phosphorus_min}, N: {nitrogen}, Altitude: {altitude}\")\n",
    "\n",
    "#     # Calculate temperature and rainfall based on the provided start date\n",
    "#     temperature, rainfall = get_month_avg(\n",
    "#         filtered_region,\n",
    "#         user_input['start_date_to_plant']\n",
    "#     )\n",
    "\n",
    "#     # Prepare the features for the model\n",
    "#     features = {\n",
    "#         'Altitude (masl)': altitude,\n",
    "#         'temperature (C) ': temperature,\n",
    "#         'pH': pH,\n",
    "#         'N': nitrogen,\n",
    "#         'P': phosphorus_min,\n",
    "#         'K': potassium_min,\n",
    "#         'Crop water need (mm/total growing period)': rainfall,\n",
    "#         'Humidity(%)': humidity\n",
    "#     }\n",
    "\n",
    "#     print(\"\\nDEBUG: Final features for prediction:\")\n",
    "#     print(features)\n",
    "\n",
    "#     # Predict the top 5 crops along with their probabilities\n",
    "#     top_crops = predict_best_crops(features, best_model, label_encoder)\n",
    "\n",
    "#     # Extract crop names for querying additional data from the dataset\n",
    "#     crop_names = [crop for crop, _ in top_crops]\n",
    "\n",
    "#     # Fetch additional data for the predicted crops\n",
    "#     crop_details = fetch_crop_data(crop_names, sampled_dataset)\n",
    "\n",
    "#     # Format the output in JSON\n",
    "#     output = {\n",
    "#         \"predicted_crops\": [\n",
    "#             {\n",
    "#                 \"crop_name\": crop,\n",
    "#                 \"probability\": float(probability),\n",
    "#                 **crop_details.get(crop, {})  # Merge details if available\n",
    "#             }\n",
    "#             for crop, probability in top_crops\n",
    "#         ]\n",
    "#     }\n",
    "\n",
    "#     # Print the output in JSON format\n",
    "#     print(\"\\nDEBUG: Final output:\")\n",
    "#     # Convert the output dictionary before serializing\n",
    "#     output_serializable = convert_to_serializable(output)\n",
    "\n",
    "#     # Now serialize to JSON\n",
    "#     print(json.dumps(output_serializable, indent=4))"
   ]
  },
  {
   "cell_type": "markdown",
   "metadata": {
    "id": "dLvFCY2ffnDV"
   },
   "source": [
    "**User inputs**"
   ]
  },
  {
   "cell_type": "code",
   "execution_count": null,
   "metadata": {
    "colab": {
     "base_uri": "https://localhost:8080/"
    },
    "id": "2G3nRgawPW5C",
    "outputId": "0ab24669-1f82-4c51-e9fd-d778864fc536"
   },
   "outputs": [
    {
     "name": "stdout",
     "output_type": "stream",
     "text": [
      "\n",
      "DEBUG: Final features for prediction:\n",
      "{'Altitude (masl)': 2200, 'temperature (C) ': 23.5, 'pH': 6.5, 'N': 140, 'P': 20, 'K': 200, 'Crop water need (mm/total growing period)': 2800, 'Humidity(%)': 70}\n",
      "\n",
      "DEBUG: Input features for prediction:\n",
      "   Altitude (masl)  temperature (C)    pH    N   P    K  \\\n",
      "0             2200              23.5  6.5  140  20  200   \n",
      "\n",
      "   Crop water need (mm/total growing period)  Humidity(%)  \n",
      "0                                       2800           70  \n",
      "\n",
      "DEBUG: Prediction probabilities: [0.00987251 0.00172183 0.0012225  0.00214637 0.00163207 0.00824898\n",
      " 0.00120424 0.00150181 0.00107688 0.00755612 0.00134038 0.0012413\n",
      " 0.00139662 0.00140505 0.00109284 0.0009177  0.91345054 0.04179749\n",
      " 0.00117477]\n",
      "\n",
      "DEBUG: Top crops and their probabilities:\n",
      "Crop: Tea, Probability: 0.9134505391120911\n",
      "Crop: Tomato, Probability: 0.04179748520255089\n",
      "Crop: Avocado, Probability: 0.009872511960566044\n",
      "Crop: Coffee, Probability: 0.008248984813690186\n",
      "Crop: Mango, Probability: 0.007556120399385691\n",
      "\n",
      "DEBUG: Final output:\n",
      "{\n",
      "    \"predicted_crops\": [\n",
      "        {\n",
      "            \"crop_name\": \"Tea\",\n",
      "            \"probability\": 0.9134505391120911,\n",
      "            \"season_a_start\": 9,\n",
      "            \"season_a_end\": \"10-Sep\",\n",
      "            \"season_b_start\": 2,\n",
      "            \"season_b_end\": \"3-Feb\",\n",
      "            \"soil_type\": \"volcanic soil\"\n",
      "        },\n",
      "        {\n",
      "            \"crop_name\": \"Tomato\",\n",
      "            \"probability\": 0.04179748520255089,\n",
      "            \"season_a_start\": 9,\n",
      "            \"season_a_end\": \"3-Jan\",\n",
      "            \"season_b_start\": 2,\n",
      "            \"season_b_end\": \"8-Jun\",\n",
      "            \"soil_type\": \"Well drained sandy, loam, and clay loam soils\"\n",
      "        },\n",
      "        {\n",
      "            \"crop_name\": \"Avocado\",\n",
      "            \"probability\": 0.009872511960566044,\n",
      "            \"season_a_start\": 9,\n",
      "            \"season_a_end\": \"1-Dec\",\n",
      "            \"season_b_start\": 2,\n",
      "            \"season_b_end\": \"6-May\",\n",
      "            \"soil_type\": \"sandy soil\"\n",
      "        },\n",
      "        {\n",
      "            \"crop_name\": \"Coffee\",\n",
      "            \"probability\": 0.008248984813690186,\n",
      "            \"season_a_start\": 9,\n",
      "            \"season_a_end\": \"5-Mar\",\n",
      "            \"season_b_start\": 2,\n",
      "            \"season_b_end\": \"10-Aug\",\n",
      "            \"soil_type\": \"volcanic soil\"\n",
      "        },\n",
      "        {\n",
      "            \"crop_name\": \"Mango\",\n",
      "            \"probability\": 0.007556120399385691,\n",
      "            \"season_a_start\": 9,\n",
      "            \"season_a_end\": \"2-Dec\",\n",
      "            \"season_b_start\": 2,\n",
      "            \"season_b_end\": \"7-May\",\n",
      "            \"soil_type\": \" well-draining, sandy loam, loamy soil\"\n",
      "        }\n",
      "    ]\n",
      "}\n"
     ]
    }
   ],
   "source": [
    "# Prepare the features for the model using the fixed values\n",
    "features = {\n",
    "    'Altitude (masl)': user_input['Altitude (masl)'],\n",
    "    'temperature (C) ': user_input['temperature (C)'],\n",
    "    'pH': user_input['pH'],\n",
    "    'N': user_input['N'],\n",
    "    'P': user_input['P'],\n",
    "    'K': user_input['K'],\n",
    "    'Crop water need (mm/total growing period)': user_input['rainfall'],\n",
    "    'Humidity(%)': user_input['Humidity(%)']\n",
    "}\n",
    "\n",
    "print(\"\\nDEBUG: Final features for prediction:\")\n",
    "print(features)\n",
    "\n",
    "# Predict the top 5 crops along with their probabilities\n",
    "top_crops = predict_best_crops(features, best_model, label_encoder)\n",
    "\n",
    "# Extract crop names for querying additional data from the dataset\n",
    "crop_names = [crop for crop, _ in top_crops]\n",
    "\n",
    "# Fetch additional data for the predicted crops\n",
    "crop_details = fetch_crop_data(crop_names, sampled_dataset)\n",
    "\n",
    "# Format the output in JSON\n",
    "output = {\n",
    "    \"predicted_crops\": [\n",
    "        {\n",
    "            \"crop_name\": crop,\n",
    "            \"probability\": float(probability),\n",
    "            **crop_details.get(crop, {})  # Merge details if available\n",
    "        }\n",
    "        for crop, probability in top_crops\n",
    "    ]\n",
    "}\n",
    "\n",
    "# Print the output in JSON format\n",
    "print(\"\\nDEBUG: Final output:\")\n",
    "output_serializable = convert_to_serializable(output)\n",
    "print(json.dumps(output_serializable, indent=4))"
   ]
  }
 ],
 "metadata": {
  "colab": {
   "provenance": []
  },
  "kernelspec": {
   "display_name": "Python 3",
   "name": "python3"
  },
  "language_info": {
   "codemirror_mode": {
    "name": "ipython",
    "version": 3
   },
   "file_extension": ".py",
   "mimetype": "text/x-python",
   "name": "python",
   "nbconvert_exporter": "python",
   "pygments_lexer": "ipython3",
   "version": "3.11.4"
  }
 },
 "nbformat": 4,
 "nbformat_minor": 0
}
