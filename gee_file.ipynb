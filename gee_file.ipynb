{
 "cells": [
  {
   "cell_type": "code",
   "execution_count": 2,
   "metadata": {},
   "outputs": [
    {
     "ename": "ModuleNotFoundError",
     "evalue": "No module named 'ee'",
     "output_type": "error",
     "traceback": [
      "\u001b[1;31m---------------------------------------------------------------------------\u001b[0m",
      "\u001b[1;31mModuleNotFoundError\u001b[0m                       Traceback (most recent call last)",
      "Cell \u001b[1;32mIn[2], line 1\u001b[0m\n\u001b[1;32m----> 1\u001b[0m \u001b[38;5;28;01mimport\u001b[39;00m \u001b[38;5;21;01mee\u001b[39;00m\n\u001b[0;32m      2\u001b[0m \u001b[38;5;28;01mimport\u001b[39;00m \u001b[38;5;21;01mfolium\u001b[39;00m\n\u001b[0;32m      4\u001b[0m \u001b[38;5;66;03m# Authenticate your account\u001b[39;00m\n",
      "\u001b[1;31mModuleNotFoundError\u001b[0m: No module named 'ee'"
     ]
    }
   ],
   "source": [
    "import ee\n",
    "import folium\n",
    "\n",
    "# Authenticate your account\n",
    "ee.Authenticate()\n",
    "\n",
    "# Initialize the Earth Engine module\n",
    "ee.Initialize()\n",
    "\n",
    "# Define the region of interest for Rwanda\n",
    "roi = ee.Geometry.Rectangle([28.0, -2.0, 30.0, -1.0])  # Adjust coordinates as needed\n",
    "\n",
    "# Load the SRTM Digital Elevation Model (DEM)\n",
    "srtm = ee.Image('USGS/SRTMGL1_003').clip(roi)\n",
    "\n",
    "# Create a map centered around the ROI\n",
    "map_srtm = folium.Map(location=[-1.5, 29.0], zoom_start=8)\n",
    "\n",
    "# Define visualization parameters for SRTM\n",
    "vis_params = {\n",
    "    'min': 1000,\n",
    "    'max': 4500,\n",
    "    'palette': ['blue', 'green', 'yellow', 'brown', 'white']\n",
    "}\n",
    "\n",
    "# Add SRTM layer to the map\n",
    "map_srtm.add_ee_layer(srtm, vis_params, 'SRTM Elevation')\n",
    "\n",
    "# Display the map\n",
    "map_srtm\n"
   ]
  }
 ],
 "metadata": {
  "kernelspec": {
   "display_name": "Python 3",
   "language": "python",
   "name": "python3"
  },
  "language_info": {
   "codemirror_mode": {
    "name": "ipython",
    "version": 3
   },
   "file_extension": ".py",
   "mimetype": "text/x-python",
   "name": "python",
   "nbconvert_exporter": "python",
   "pygments_lexer": "ipython3",
   "version": "3.11.4"
  }
 },
 "nbformat": 4,
 "nbformat_minor": 2
}
